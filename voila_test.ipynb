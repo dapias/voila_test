{
 "cells": [
  {
   "cell_type": "code",
   "execution_count": 1,
   "id": "03f34d42-4f7b-43e7-8616-e026c9ef264a",
   "metadata": {},
   "outputs": [],
   "source": [
    "# Import necessary libraries\n",
    "import numpy as np\n",
    "import matplotlib.pyplot as plt\n",
    "import pandas as pd\n",
    "\n",
    "import ipywidgets as widgets\n",
    "from ipywidgets import interactive\n"
   ]
  },
  {
   "cell_type": "code",
   "execution_count": 4,
   "id": "3d8082f0-9d8d-482e-b6b6-e6336c02055e",
   "metadata": {},
   "outputs": [],
   "source": [
    "study_hours = np.linspace(1, 10, 100)  # 100 values for study hours between 1 and 10\n",
    "exam_scores = 50 + 5 * study_hours + np.random.normal(0, 3, 100)  # Linear relationship with noise\n",
    "\n",
    "# Create a DataFrame\n",
    "data = pd.DataFrame({'Study Hours': study_hours, 'Exam Scores': exam_scores})\n",
    "\n",
    "def plot_data(min_study, max_study):\n",
    "    # Filter data based on selected study hours range\n",
    "    filtered_data = data[(data['Study Hours'] >= min_study) & (data['Study Hours'] <= max_study)]\n",
    "    \n",
    "    # Create the plot\n",
    "    plt.figure(figsize=(8, 6))\n",
    "    plt.scatter(filtered_data['Study Hours'], filtered_data['Exam Scores'], color='blue', label='Datenpunkte')\n",
    "    plt.plot(filtered_data['Study Hours'], 50 + 5 * filtered_data['Study Hours'], color='red', label='Wahre Beziehung', linewidth=2)\n",
    "    plt.xlabel('Studienstunden')\n",
    "    plt.ylabel('Prüfungsergebnisse')\n",
    "    plt.title(f'Beziehung zwischen Studienstunden ({min_study} - {max_study}) und Prüfungsergebnissen')\n",
    "    plt.legend()\n",
    "    plt.show()"
   ]
  },
  {
   "cell_type": "code",
   "execution_count": 6,
   "id": "70a5d0dd-2996-460c-a0dc-ea6812bf4779",
   "metadata": {},
   "outputs": [
    {
     "data": {
      "application/vnd.jupyter.widget-view+json": {
       "model_id": "9964aea010194945971dea093a1a9a72",
       "version_major": 2,
       "version_minor": 0
      },
      "text/plain": [
       "interactive(children=(FloatSlider(value=1.0, description='Min Study Hours', max=10.0, min=1.0), FloatSlider(va…"
      ]
     },
     "execution_count": 6,
     "metadata": {},
     "output_type": "execute_result"
    }
   ],
   "source": [
    "interactive_plot = interactive(plot_data, \n",
    "                               min_study=widgets.FloatSlider(value=1, min=1, max=10, step=0.1, description='Min Study Hours'),\n",
    "                               max_study=widgets.FloatSlider(value=10, min=1, max=10, step=0.1, description='Max Study Hours'))\n",
    "\n",
    "# Display the interactive widgets\n",
    "interactive_plot"
   ]
  },
  {
   "cell_type": "markdown",
   "id": "7fe5e7fe-8c9f-4d4d-b0e9-72cb1e0a804e",
   "metadata": {},
   "source": [
    "Das obige Diagramm zeigt die Beziehung zwischen den Studienstunden und den Prüfungsergebnissen. \n",
    "Die rote Linie stellt die wahre lineare Beziehung dar, die dem Modell  $\\text{Score} = 50 + 5 \\times \\text{Study Hours}$ folgt. \n",
    "Die blauen Punkte repräsentieren die echten Daten, die zufällige Abweichungen von der wahren Beziehung aufweisen, \n",
    "die durch andere Faktoren wie Prüfungsstress und vorheriges Wissen beeinflusst werden können.\n"
   ]
  }
 ],
 "metadata": {
  "kernelspec": {
   "display_name": "Python 3 (ipykernel)",
   "language": "python",
   "name": "python3"
  },
  "language_info": {
   "codemirror_mode": {
    "name": "ipython",
    "version": 3
   },
   "file_extension": ".py",
   "mimetype": "text/x-python",
   "name": "python",
   "nbconvert_exporter": "python",
   "pygments_lexer": "ipython3",
   "version": "3.12.2"
  }
 },
 "nbformat": 4,
 "nbformat_minor": 5
}
